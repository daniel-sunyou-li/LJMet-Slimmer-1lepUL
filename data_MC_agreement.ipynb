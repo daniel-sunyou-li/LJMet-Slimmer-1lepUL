{
 "cells": [
  {
   "cell_type": "code",
   "execution_count": 1,
   "id": "f4c90a2e",
   "metadata": {},
   "outputs": [
    {
     "name": "stdout",
     "output_type": "stream",
     "text": [
      "Welcome to JupyROOT 6.28/00\n"
     ]
    }
   ],
   "source": [
    "import ROOT\n",
    "import numpy as np\n",
    "import matplotlib.pyplot as plt\n",
    "import matplotlib.colors as colors\n",
    "from matplotlib import cm\n",
    "from matplotlib import patches\n",
    "import mplhep as hep\n",
    "import os\n",
    "from tqdm import tqdm\n",
    "import ipywidgets as widget\n",
    "import xsec\n",
    "import itertools"
   ]
  },
  {
   "cell_type": "markdown",
   "id": "3f119f0d",
   "metadata": {},
   "source": [
    "C++ methods for defining the event weights in MC. The kernel needs to be restarted to test a new weight definition."
   ]
  },
  {
   "cell_type": "code",
   "execution_count": 2,
   "id": "94ed402a",
   "metadata": {},
   "outputs": [
    {
     "data": {
      "text/plain": [
       "True"
      ]
     },
     "execution_count": 2,
     "metadata": {},
     "output_type": "execute_result"
    }
   ],
   "source": [
    "ROOT.gInterpreter.Declare(\"\"\"\n",
    "float compute_weight( float norm, float triggerXSF, float triggerSF, float pileupWeight, float pileupJetIDWeight, float lepIdSF, float EGammaGsfSF, float isoSF, float L1NonPrefiringProb_CommonCalc, float MCWeight_MultiLepCalc, float btagDeepJetWeight, float btagDeepJet2DWeight_HTnj ){\n",
    "    return norm * triggerXSF * triggerSF * pileupWeight * pileupJetIDWeight * lepIdSF * EGammaGsfSF * isoSF * L1NonPrefiringProb_CommonCalc * ( MCWeight_MultiLepCalc / abs( MCWeight_MultiLepCalc ) ) * btagDeepJetWeight * btagDeepJet2DWeight_HTnj;\n",
    "}\n",
    "\"\"\")"
   ]
  },
  {
   "cell_type": "code",
   "execution_count": 3,
   "id": "24aa0bde",
   "metadata": {},
   "outputs": [
    {
     "data": {
      "text/plain": [
       "True"
      ]
     },
     "execution_count": 3,
     "metadata": {},
     "output_type": "execute_result"
    }
   ],
   "source": [
    "ROOT.gInterpreter.Declare(\"\"\"\n",
    "float compute_weight_ttbar( float norm, float triggerXSF, float triggerSF, float pileupWeight, float pileupJetIDWeight, float topPtWeight13TeV, float lepIdSF, float EGammaGsfSF, float isoSF, float L1NonPrefiringProb_CommonCalc, float MCWeight_MultiLepCalc, float btagDeepJetWeight, float btagDeepJet2DWeight_HTnj ){\n",
    "    return norm * triggerXSF * triggerSF * pileupWeight * pileupJetIDWeight * topPtWeight13TeV * lepIdSF * EGammaGsfSF * isoSF * L1NonPrefiringProb_CommonCalc * ( MCWeight_MultiLepCalc / abs( MCWeight_MultiLepCalc ) ) * btagDeepJetWeight * btagDeepJet2DWeight_HTnj;\n",
    "}\n",
    "\"\"\")"
   ]
  },
  {
   "cell_type": "code",
   "execution_count": 4,
   "id": "265b7369",
   "metadata": {},
   "outputs": [],
   "source": [
    "era = \"2018\"\n",
    "rPath = \"root://brux30.hep.brown.edu:1094//store/user/dali/\"\n",
    "rDir = rPath + \"FWLJMET106XUL_singleLep{}UL_RunIISummer20_3t_step2_standard/nominal/\".format( era )\n",
    "nTree = \"ljmet\"\n",
    "fDATA = [\n",
    "    #\"SingleElectron_hadd.root\",\n",
    "    \"EGamma_hadd.root\",\n",
    "    \"SingleMuon_hadd.root\"\n",
    "]\n",
    "fSIG = [\n",
    "    \"TTTJ_TuneCP5_13TeV-madgraph-pythia8_hadd.root\",\n",
    "    \"TTTW_TuneCP5_13TeV-madgraph-pythia8_hadd.root\"\n",
    "]\n",
    "fBKG = {\n",
    "    \"TTTT\": [\n",
    "        #\"TTTT_TuneCP5_13TeV-amcatnlo-pythia8_hadd.root\",\n",
    "        \"TTTT_TuneCP5_13TeV-amcatnlo-pythia8_1_hadd.root\",\n",
    "        \"TTTT_TuneCP5_13TeV-amcatnlo-pythia8_2_hadd.root\",\n",
    "        \"TTTT_TuneCP5_13TeV-amcatnlo-pythia8_3_hadd.root\",\n",
    "    ],\n",
    "    \"TTH\": [\n",
    "        \"ttHTobb_M125_TuneCP5_13TeV-powheg-pythia8_hadd.root\",\n",
    "        \"ttHToNonbb_M125_TuneCP5_13TeV-powheg-pythia8_hadd.root\",\n",
    "    ],\n",
    "    \"TOP\": [\n",
    "        \"TTHH_TuneCP5_13TeV-madgraph-pythia8_hadd.root\",\n",
    "        \"TTWH_TuneCP5_13TeV-madgraph-pythia8_hadd.root\",\n",
    "        \"TTWW_TuneCP5_13TeV-madgraph-pythia8_hadd.root\",\n",
    "        \"TTWZ_TuneCP5_13TeV-madgraph-pythia8_hadd.root\",\n",
    "        \"TTZH_TuneCP5_13TeV-madgraph-pythia8_hadd.root\",\n",
    "        \"TTZZ_TuneCP5_13TeV-madgraph-pythia8_hadd.root\",\n",
    "        \"TTZToLLNuNu_M-10_TuneCP5_13TeV-amcatnlo-pythia8_hadd.root\",\n",
    "        \"TTWJetsToQQ_TuneCP5_13TeV-amcatnloFXFX-madspin-pythia8_hadd.root\", \n",
    "        \"TTWJetsToLNu_TuneCP5_13TeV-amcatnloFXFX-madspin-pythia8_hadd.root\",\n",
    "        \"TTZToLL_M-1to10_TuneCP5_13TeV-amcatnlo-pythia8_hadd.root\",\n",
    "    ],\n",
    "    \"ST\": [\n",
    "        \"ST_s-channel_4f_leptonDecays_TuneCP5_13TeV-amcatnlo-pythia8_hadd.root\",\n",
    "        \"ST_t-channel_top_4f_InclusiveDecays_TuneCP5_13TeV-powheg-madspin-pythia8_hadd.root\",\n",
    "        \"ST_t-channel_antitop_4f_InclusiveDecays_TuneCP5_13TeV-powheg-madspin-pythia8_hadd.root\",\n",
    "        \"ST_tW_top_5f_inclusiveDecays_TuneCP5_13TeV-powheg-pythia8_hadd.root\",\n",
    "        \"ST_tW_antitop_5f_inclusiveDecays_TuneCP5_13TeV-powheg-pythia8_hadd.root\",\n",
    "    ],\n",
    "    \"EWK\": [\n",
    "        \"WW_TuneCP5_13TeV-pythia8_hadd.root\",\n",
    "        \"WZ_TuneCP5_13TeV-pythia8_hadd.root\",\n",
    "        \"ZZ_TuneCP5_13TeV-pythia8_hadd.root\",\n",
    "        \"DYJetsToLL_M-50_HT-200to400_TuneCP5_PSweights_13TeV-madgraphMLM-pythia8_hadd.root\",\n",
    "        \"DYJetsToLL_M-50_HT-400to600_TuneCP5_PSweights_13TeV-madgraphMLM-pythia8_hadd.root\",\n",
    "        \"DYJetsToLL_M-50_HT-600to800_TuneCP5_PSweights_13TeV-madgraphMLM-pythia8_hadd.root\",\n",
    "        \"DYJetsToLL_M-50_HT-800to1200_TuneCP5_PSweights_13TeV-madgraphMLM-pythia8_hadd.root\",\n",
    "        \"DYJetsToLL_M-50_HT-1200to2500_TuneCP5_PSweights_13TeV-madgraphMLM-pythia8_hadd.root\",\n",
    "        \"DYJetsToLL_M-50_HT-2500toInf_TuneCP5_PSweights_13TeV-madgraphMLM-pythia8_hadd.root\",\n",
    "        \"WJetsToLNu_HT-200To400_TuneCP5_13TeV-madgraphMLM-pythia8_hadd.root\",\n",
    "        \"WJetsToLNu_HT-400To600_TuneCP5_13TeV-madgraphMLM-pythia8_hadd.root\",\n",
    "        \"WJetsToLNu_HT-600To800_TuneCP5_13TeV-madgraphMLM-pythia8_hadd.root\",\n",
    "        \"WJetsToLNu_HT-800To1200_TuneCP5_13TeV-madgraphMLM-pythia8_hadd.root\",\n",
    "        \"WJetsToLNu_HT-1200To2500_TuneCP5_13TeV-madgraphMLM-pythia8_hadd.root\",\n",
    "        \"WJetsToLNu_HT-2500ToInf_TuneCP5_13TeV-madgraphMLM-pythia8_hadd.root\",\n",
    "    ],\n",
    "    \"QCD\": [\n",
    "        \"QCD_HT200to300_TuneCP5_PSWeights_13TeV-madgraph-pythia8_hadd.root\",\n",
    "        \"QCD_HT300to500_TuneCP5_PSWeights_13TeV-madgraph-pythia8_hadd.root\",\n",
    "        \"QCD_HT500to700_TuneCP5_PSWeights_13TeV-madgraph-pythia8_hadd.root\",\n",
    "        \"QCD_HT700to1000_TuneCP5_PSWeights_13TeV-madgraph-pythia8_hadd.root\",\n",
    "        \"QCD_HT1000to1500_TuneCP5_PSWeights_13TeV-madgraph-pythia8_hadd.root\",\n",
    "        \"QCD_HT1500to2000_TuneCP5_PSWeights_13TeV-madgraph-pythia8_hadd.root\",\n",
    "        \"QCD_HT2000toInf_TuneCP5_PSWeights_13TeV-madgraph-pythia8_hadd.root\",\n",
    "    ],   \n",
    "    \"TTBAR\": [\n",
    "        \"TTTo2L2Nu_TuneCP5_13TeV-powheg-pythia8_tt1b_hadd.root\",\n",
    "        \"TTTo2L2Nu_TuneCP5_13TeV-powheg-pythia8_tt2b_hadd.root\",\n",
    "        \"TTTo2L2Nu_TuneCP5_13TeV-powheg-pythia8_ttbb_hadd.root\",\n",
    "        \"TTTo2L2Nu_TuneCP5_13TeV-powheg-pythia8_ttcc_hadd.root\",\n",
    "        \"TTTo2L2Nu_TuneCP5_13TeV-powheg-pythia8_ttjj_hadd.root\",\n",
    "        \"TTToHadronic_TuneCP5_13TeV-powheg-pythia8_tt1b_hadd.root\",\n",
    "        \"TTToHadronic_TuneCP5_13TeV-powheg-pythia8_tt2b_hadd.root\",\n",
    "        \"TTToHadronic_TuneCP5_13TeV-powheg-pythia8_ttbb_hadd.root\",\n",
    "        \"TTToHadronic_TuneCP5_13TeV-powheg-pythia8_ttcc_hadd.root\",\n",
    "        \"TTToHadronic_TuneCP5_13TeV-powheg-pythia8_ttjj_hadd.root\",\n",
    "        \"TTToSemiLepton_HT500Njet9_TuneCP5_13TeV-powheg-pythia8_tt1b_hadd.root\",\n",
    "        \"TTToSemiLepton_HT500Njet9_TuneCP5_13TeV-powheg-pythia8_tt2b_hadd.root\",\n",
    "        \"TTToSemiLepton_HT500Njet9_TuneCP5_13TeV-powheg-pythia8_ttbb_hadd.root\",\n",
    "        \"TTToSemiLepton_HT500Njet9_TuneCP5_13TeV-powheg-pythia8_ttcc_hadd.root\",\n",
    "        \"TTToSemiLepton_HT500Njet9_TuneCP5_13TeV-powheg-pythia8_ttjj_hadd.root\",\n",
    "        \"TTToSemiLeptonic_TuneCP5_13TeV-powheg-pythia8_HT0Njet0_tt1b_hadd.root\",\n",
    "        \"TTToSemiLeptonic_TuneCP5_13TeV-powheg-pythia8_HT0Njet0_tt2b_hadd.root\",\n",
    "        \"TTToSemiLeptonic_TuneCP5_13TeV-powheg-pythia8_HT0Njet0_ttbb_hadd.root\",\n",
    "        \"TTToSemiLeptonic_TuneCP5_13TeV-powheg-pythia8_HT0Njet0_ttcc_hadd.root\",\n",
    "        \"TTToSemiLeptonic_TuneCP5_13TeV-powheg-pythia8_HT0Njet0_ttjj_1_hadd.root\",\n",
    "        \"TTToSemiLeptonic_TuneCP5_13TeV-powheg-pythia8_HT0Njet0_ttjj_2_hadd.root\",\n",
    "        \"TTToSemiLeptonic_TuneCP5_13TeV-powheg-pythia8_HT0Njet0_ttjj_3_hadd.root\",\n",
    "        \"TTToSemiLeptonic_TuneCP5_13TeV-powheg-pythia8_HT0Njet0_ttjj_4_hadd.root\",\n",
    "        \"TTToSemiLeptonic_TuneCP5_13TeV-powheg-pythia8_HT0Njet0_ttjj_5_hadd.root\",\n",
    "        \"TTToSemiLeptonic_TuneCP5_13TeV-powheg-pythia8_HT0Njet0_ttjj_6_hadd.root\",\n",
    "        \"TTToSemiLeptonic_TuneCP5_13TeV-powheg-pythia8_HT0Njet0_ttjj_7_hadd.root\",\n",
    "        \"TTToSemiLeptonic_TuneCP5_13TeV-powheg-pythia8_HT0Njet0_ttjj_8_hadd.root\",\n",
    "        \"TTToSemiLeptonic_TuneCP5_13TeV-powheg-pythia8_HT0Njet0_ttjj_9_hadd.root\",\n",
    "        \"TTToSemiLeptonic_TuneCP5_13TeV-powheg-pythia8_HT0Njet0_ttjj_10_hadd.root\",\n",
    "        \"TTToSemiLeptonic_TuneCP5_13TeV-powheg-pythia8_HT500Njet9_tt1b_hadd.root\",\n",
    "        \"TTToSemiLeptonic_TuneCP5_13TeV-powheg-pythia8_HT500Njet9_tt2b_hadd.root\",\n",
    "        \"TTToSemiLeptonic_TuneCP5_13TeV-powheg-pythia8_HT500Njet9_ttbb_hadd.root\",\n",
    "        \"TTToSemiLeptonic_TuneCP5_13TeV-powheg-pythia8_HT500Njet9_ttcc_hadd.root\",\n",
    "        \"TTToSemiLeptonic_TuneCP5_13TeV-powheg-pythia8_HT500Njet9_ttjj_hadd.root\",\n",
    "    ]\n",
    "}"
   ]
  },
  {
   "cell_type": "code",
   "execution_count": 5,
   "id": "b0ba77d8",
   "metadata": {},
   "outputs": [
    {
     "name": "stdout",
     "output_type": "stream",
     "text": [
      "Applying the selection: DataPastTriggerX == 1 && MCPastTriggerX == 1 && minDR_lepJet > 0.2 && AK4HT > 350 && ( ( isElectron == 1 && ( leptonEta_MultiLepCalc > -1.3 ||  ( leptonPhi_MultiLepCalc < -1.57 || leptonPhi_MultiLepCalc > -0.87 ) ) ) || isMuon == 1 )\n",
      "Loading data:\n"
     ]
    },
    {
     "name": "stderr",
     "output_type": "stream",
     "text": [
      "100%|██████████| 2/2 [00:21<00:00, 10.83s/it]\n"
     ]
    },
    {
     "name": "stdout",
     "output_type": "stream",
     "text": [
      "Loading signal:\n"
     ]
    },
    {
     "name": "stderr",
     "output_type": "stream",
     "text": [
      "100%|██████████| 2/2 [00:06<00:00,  3.16s/it]\n"
     ]
    },
    {
     "name": "stdout",
     "output_type": "stream",
     "text": [
      "Loading background group: TTTT\n"
     ]
    },
    {
     "name": "stderr",
     "output_type": "stream",
     "text": [
      "100%|██████████| 3/3 [01:23<00:00, 27.72s/it]\n"
     ]
    },
    {
     "name": "stdout",
     "output_type": "stream",
     "text": [
      "Loading background group: TTH\n"
     ]
    },
    {
     "name": "stderr",
     "output_type": "stream",
     "text": [
      "100%|██████████| 2/2 [00:24<00:00, 12.02s/it]\n"
     ]
    },
    {
     "name": "stdout",
     "output_type": "stream",
     "text": [
      "Loading background group: TOP\n"
     ]
    },
    {
     "name": "stderr",
     "output_type": "stream",
     "text": [
      "100%|██████████| 10/10 [01:02<00:00,  6.24s/it]\n"
     ]
    },
    {
     "name": "stdout",
     "output_type": "stream",
     "text": [
      "Loading background group: ST\n"
     ]
    },
    {
     "name": "stderr",
     "output_type": "stream",
     "text": [
      "100%|██████████| 5/5 [00:15<00:00,  3.06s/it]\n"
     ]
    },
    {
     "name": "stdout",
     "output_type": "stream",
     "text": [
      "Loading background group: EWK\n"
     ]
    },
    {
     "name": "stderr",
     "output_type": "stream",
     "text": [
      "100%|██████████| 15/15 [01:28<00:00,  5.87s/it]\n"
     ]
    },
    {
     "name": "stdout",
     "output_type": "stream",
     "text": [
      "Loading background group: QCD\n"
     ]
    },
    {
     "name": "stderr",
     "output_type": "stream",
     "text": [
      "100%|██████████| 7/7 [00:09<00:00,  1.33s/it]\n"
     ]
    },
    {
     "name": "stdout",
     "output_type": "stream",
     "text": [
      "Loading background group: TTBAR\n"
     ]
    },
    {
     "name": "stderr",
     "output_type": "stream",
     "text": [
      "100%|██████████| 34/34 [07:49<00:00, 13.81s/it]\n"
     ]
    }
   ],
   "source": [
    "fBase = \"DataPastTriggerX == 1 && MCPastTriggerX == 1 && minDR_lepJet > 0.2 && AK4HT > 350\"\n",
    "if era == \"2018\":\n",
    "    fBase += \" && ( ( isElectron == 1 && ( leptonEta_MultiLepCalc > -1.3 ||  ( leptonPhi_MultiLepCalc < -1.57 || leptonPhi_MultiLepCalc > -0.87 ) ) ) || isMuon == 1 )\"\n",
    "trigger = \"1\" if ( era == \"2016APV\" or era == \"2016\" ) else \"triggerSF\"\n",
    "deepJet1D = \"btagDeepJetWeight\"\n",
    "deepJet2D = \"btagDeepJet2DWeight_HTnj\"\n",
    "variables = [\n",
    "    \"NJets_JetSubCalc\",\n",
    "    \"NJetsCSV_JetSubCalc\",\n",
    "    \"NresolvedTops1pFake\",\n",
    "    \"AK4HT\",\n",
    "    \"corr_met_MultiLepCalc\",\n",
    "    \"corr_met_phi_MultiLepCalc\",\n",
    "    \"leptonPhi_MultiLepCalc\",\n",
    "]\n",
    "rDF = { \"DATA\": {}, \"SIG\": {}, \"BKG\": {} }\n",
    "print( \"Applying the selection: {}\".format( fBase ) )\n",
    "print( \"Loading data:\" )\n",
    "for f in tqdm( fDATA ):\n",
    "    rDF[\"DATA\"][f] = ROOT.RDataFrame( nTree, rDir + f ).Filter( fBase ).AsNumpy( columns = variables )\n",
    "print( \"Loading signal:\" )\n",
    "for f in tqdm( fSIG ):\n",
    "    rDF_ = ROOT.RDataFrame( nTree, rDir + f ).Filter( fBase ).Define( \"weight\", \"compute_weight( {}, triggerXSF, {}, pileupWeight, pileupJetIDWeight, lepIdSF, EGammaGsfSF, isoSF, L1NonPrefiringProb_CommonCalc, MCWeight_MultiLepCalc, {}, {} )\".format( xsec.norm[f], trigger, deepJet1D, deepJet2D ) )\n",
    "    rDF[\"SIG\"][f] = rDF_.AsNumpy( columns = variables + [ \"weight\" ] )\n",
    "for g in fBKG:\n",
    "    rDF[\"BKG\"][g] = {}\n",
    "    print( \"Loading background group: \" + g )\n",
    "    for f in tqdm( fBKG[g] ):\n",
    "        if g == \"TTBAR\":\n",
    "            if \"TTToSemiLepton\" in f and \"HT500\" in f:\n",
    "                rDF_ = ROOT.RDataFrame( nTree, rDir + f ).Filter( fBase + \" && isHTgt500Njetge9 == 1\" ).Define( \"weight\", \"compute_weight_ttbar( {}, triggerXSF, {}, pileupWeight, pileupJetIDWeight, topPtWeight13TeV, lepIdSF, EGammaGsfSF, isoSF, L1NonPrefiringProb_CommonCalc, MCWeight_MultiLepCalc, {}, {} )\".format( xsec.norm[f], trigger, deepJet1D, deepJet2D ) )\n",
    "            elif \"TTToSemiLepton\" in f and \"HT500\" not in f:\n",
    "                rDF_ = ROOT.RDataFrame( nTree, rDir + f ).Filter( fBase + \" && isHTgt500Njetge9 == 0\" ).Define( \"weight\", \"compute_weight_ttbar( {}, triggerXSF, {}, pileupWeight, pileupJetIDWeight, topPtWeight13TeV, lepIdSF, EGammaGsfSF, isoSF, L1NonPrefiringProb_CommonCalc, MCWeight_MultiLepCalc, {}, {} )\".format( xsec.norm[f], trigger, deepJet1D, deepJet2D ) )\n",
    "            else:\n",
    "                rDF_ = ROOT.RDataFrame( nTree, rDir + f ).Filter( fBase ).Define( \"weight\", \"compute_weight_ttbar( {}, triggerXSF, {}, pileupWeight, pileupJetIDWeight, topPtWeight13TeV, lepIdSF, EGammaGsfSF, isoSF, L1NonPrefiringProb_CommonCalc, MCWeight_MultiLepCalc, {}, {} )\".format( xsec.norm[f], trigger, deepJet1D, deepJet2D ) )\n",
    "            rDF[\"BKG\"][g][f] = rDF_.AsNumpy( columns = variables + [ \"weight\" ] )\n",
    "        else:\n",
    "            rDF_ = ROOT.RDataFrame( nTree, rDir + f ).Filter( fBase ).Define( \"weight\", \"compute_weight( {}, triggerXSF, {}, pileupWeight, pileupJetIDWeight, lepIdSF, EGammaGsfSF, isoSF, L1NonPrefiringProb_CommonCalc, MCWeight_MultiLepCalc, {}, {} )\".format( xsec.norm[f], trigger, deepJet1D, deepJet2D ) )\n",
    "            rDF[\"BKG\"][g][f] = rDF_.AsNumpy( columns = variables + [ \"weight\" ] )"
   ]
  },
  {
   "cell_type": "markdown",
   "id": "c645ab12",
   "metadata": {},
   "source": [
    "### Apply any selection"
   ]
  },
  {
   "cell_type": "code",
   "execution_count": 6,
   "id": "e1aad267",
   "metadata": {},
   "outputs": [],
   "source": [
    "ops = {\n",
    "    \">=\": lambda x, y: x >= y,\n",
    "    \">\":  lambda x, y: x > y,\n",
    "    \"<\":  lambda x, y: x < y,\n",
    "    \"<=\": lambda x, y: x <= y,\n",
    "    \"==\": lambda x, y: x == y\n",
    "}"
   ]
  },
  {
   "cell_type": "code",
   "execution_count": 7,
   "id": "ccb3794e",
   "metadata": {},
   "outputs": [],
   "source": [
    "selection = {\n",
    "    ( \"NJets_JetSubCalc\", \">=\", 4, \"$N_j\\geq4$\" ),\n",
    "    #( \"NJets_JetSubCalc\", \"<\", 6, \"$N_j<6$\" ),\n",
    "    ( \"NJetsCSV_JetSubCalc\", \">=\", 2, \"$N_b\\geq2$\" ),\n",
    "    #( \"NJetsCSV_JetSubCalc\", \"<\", 4, \"$N_b<4$\" )\n",
    "}"
   ]
  },
  {
   "cell_type": "code",
   "execution_count": 8,
   "id": "804bc4a1",
   "metadata": {},
   "outputs": [
    {
     "name": "stdout",
     "output_type": "stream",
     "text": [
      "[INFO] Applying selection on data\n"
     ]
    },
    {
     "name": "stderr",
     "output_type": "stream",
     "text": [
      "100%|██████████| 2/2 [00:00<00:00, 197.80it/s]\n"
     ]
    },
    {
     "name": "stdout",
     "output_type": "stream",
     "text": [
      "[INFO] Applying selection on signal\n"
     ]
    },
    {
     "name": "stderr",
     "output_type": "stream",
     "text": [
      "100%|██████████| 2/2 [00:00<00:00, 1257.66it/s]\n"
     ]
    },
    {
     "name": "stdout",
     "output_type": "stream",
     "text": [
      "[INFO] Applying selection on background\n"
     ]
    },
    {
     "name": "stderr",
     "output_type": "stream",
     "text": [
      "100%|██████████| 7/7 [00:00<00:00, 26.75it/s]\n"
     ]
    }
   ],
   "source": [
    "mask = { \"DATA\": {}, \"SIG\": {}, \"BKG\": {} }\n",
    "\n",
    "print( \"[INFO] Applying selection on data\" )\n",
    "for f in tqdm( rDF[\"DATA\"] ):\n",
    "    for selection_ in selection:\n",
    "        mask[\"DATA\"][f] = ops[selection_[1]]( rDF[\"DATA\"][f][selection_[0]], selection_[2] )\n",
    "print( \"[INFO] Applying selection on signal\" )\n",
    "for f in tqdm( rDF[\"SIG\"] ):\n",
    "    for selection_ in selection:\n",
    "        mask[\"SIG\"][f] = ops[selection_[1]]( rDF[\"SIG\"][f][selection_[0]], selection_[2] )\n",
    "print( \"[INFO] Applying selection on background\" )\n",
    "for g in tqdm( rDF[\"BKG\"] ):\n",
    "    mask[\"BKG\"][g] = {}\n",
    "    for f in rDF[\"BKG\"][g]:\n",
    "        for selection_ in selection:\n",
    "            mask[\"BKG\"][g][f] = ops[selection_[1]]( rDF[\"BKG\"][g][f][selection_[0]], selection_[2] )"
   ]
  },
  {
   "cell_type": "markdown",
   "id": "c07ab956",
   "metadata": {},
   "source": [
    "### Calculate Statistical Uncertainty and Apply normalization weights"
   ]
  },
  {
   "cell_type": "code",
   "execution_count": 9,
   "id": "49c46d40",
   "metadata": {},
   "outputs": [
    {
     "data": {
      "application/vnd.jupyter.widget-view+json": {
       "model_id": "5a14fbffabab404c9ab5e0ac08a7695d",
       "version_major": 2,
       "version_minor": 0
      },
      "text/plain": [
       "Dropdown(options=('AK4HT', 'NJetsCSV_JetSubCalc', 'NJets_JetSubCalc', 'NresolvedTops1pFake', 'corr_met_MultiLe…"
      ]
     },
     "metadata": {},
     "output_type": "display_data"
    }
   ],
   "source": [
    "variable_plot = widget.Dropdown( options = sorted( variables ) )\n",
    "variable_plot"
   ]
  },
  {
   "cell_type": "code",
   "execution_count": 18,
   "id": "764ca4ca",
   "metadata": {},
   "outputs": [
    {
     "name": "stdout",
     "output_type": "stream",
     "text": [
      "[INFO] Binning data\n"
     ]
    },
    {
     "name": "stderr",
     "output_type": "stream",
     "text": [
      "100%|██████████| 2/2 [00:00<00:00,  6.79it/s]\n"
     ]
    },
    {
     "name": "stdout",
     "output_type": "stream",
     "text": [
      "[INFO] Binning signal\n"
     ]
    },
    {
     "name": "stderr",
     "output_type": "stream",
     "text": [
      "100%|██████████| 2/2 [00:00<00:00, 33.79it/s]\n"
     ]
    },
    {
     "name": "stdout",
     "output_type": "stream",
     "text": [
      "[INFO] Binning background\n"
     ]
    },
    {
     "name": "stderr",
     "output_type": "stream",
     "text": [
      "100%|██████████| 7/7 [00:10<00:00,  1.56s/it]\n"
     ]
    }
   ],
   "source": [
    "bins = np.linspace( 0, 1000, 51 )\n",
    "\n",
    "hist = { \"DATA\": {}, \"SIG\": {}, \"BKG\": {} }\n",
    "hist_norm = { \"DATA\": {}, \"SIG\": {}, \"BKG\": {} }\n",
    "\n",
    "print( \"[INFO] Binning data\" )\n",
    "for f in tqdm( rDF[\"DATA\"] ):\n",
    "    hist[\"DATA\"][f] = np.histogram( rDF[\"DATA\"][f][variable_plot.value][ mask[\"DATA\"][f] ], bins = bins )\n",
    "    hist_norm[\"DATA\"][f] = np.histogram( rDF[\"DATA\"][f][variable_plot.value][ mask[\"DATA\"][f] ], bins = bins )\n",
    "print( \"[INFO] Binning signal\" )\n",
    "for f in tqdm( rDF[\"SIG\"] ):\n",
    "    hist[\"SIG\"][f] = np.histogram( rDF[\"SIG\"][f][variable_plot.value][ mask[\"SIG\"][f] ], bins = bins )\n",
    "    hist_norm[\"SIG\"][f] = np.histogram( \n",
    "        rDF[\"SIG\"][f][variable_plot.value][ mask[\"SIG\"][f] ], \n",
    "        weights = rDF[\"SIG\"][f][\"weight\"][ mask[\"SIG\"][f] ],\n",
    "        bins = bins )\n",
    "print( \"[INFO] Binning background\" )\n",
    "for g in tqdm( fBKG ):\n",
    "    for f in fBKG[g]:\n",
    "        if f == fBKG[g][0]:\n",
    "            hist[\"BKG\"][g] = list( np.histogram( rDF[\"BKG\"][g][f][variable_plot.value][ mask[\"BKG\"][g][f] ], bins = bins ) )\n",
    "            hist_norm[\"BKG\"][g] = list( np.histogram( \n",
    "                rDF[\"BKG\"][g][f][variable_plot.value][ mask[\"BKG\"][g][f] ],\n",
    "                weights = rDF[\"BKG\"][g][f][\"weight\"][ mask[\"BKG\"][g][f] ],\n",
    "                bins = bins ) )\n",
    "        else:\n",
    "            hist[\"BKG\"][g][0] += np.histogram( rDF[\"BKG\"][g][f][variable_plot.value][ mask[\"BKG\"][g][f] ], bins = bins )[0]\n",
    "            hist_norm[\"BKG\"][g][0] += np.histogram( \n",
    "                rDF[\"BKG\"][g][f][variable_plot.value][ mask[\"BKG\"][g][f] ],\n",
    "                weights = rDF[\"BKG\"][g][f][\"weight\"][ mask[\"BKG\"][g][f] ],\n",
    "                bins = bins )[0]\n",
    "\n"
   ]
  },
  {
   "cell_type": "markdown",
   "id": "95b66e7a",
   "metadata": {},
   "source": [
    "### Calculate data-to-MC ratio"
   ]
  },
  {
   "cell_type": "code",
   "execution_count": 19,
   "id": "c2cd5f04",
   "metadata": {},
   "outputs": [],
   "source": [
    "data_yield_tot = 0\n",
    "mc_yield_tot = 0\n",
    "ratio = []\n",
    "ratio_err_data = []\n",
    "ratio_err_MC = []\n",
    "for i in range( len( bins ) - 1 ):\n",
    "    data_yield = hist[\"DATA\"][fDATA[0]][0][i] + hist[\"DATA\"][fDATA[1]][0][i]\n",
    "    signal_yield = np.sum( [ hist_norm[\"SIG\"][f][0][i] for f in hist_norm[\"SIG\"] ] )\n",
    "    signal_stat = np.sum( [ hist[\"SIG\"][f][0][i] for f in hist[\"SIG\"] ] )\n",
    "    background_yield = 0\n",
    "    background_stat = 0\n",
    "    for g in hist[\"BKG\"]:\n",
    "        background_yield += hist_norm[\"BKG\"][g][0][i]\n",
    "        background_stat += hist[\"BKG\"][g][0][i]\n",
    "    mc_yield = signal_yield + background_yield\n",
    "    mc_stat  = signal_stat + background_stat\n",
    "    scale = 1 if mc_yield == 0 else np.sum( mc_stat ) / np.sum( mc_yield )\n",
    "    if mc_yield == 0:\n",
    "        ratio.append(1)\n",
    "        ratio_err_data.append( 0 )\n",
    "        ratio_err_MC.append( 0 )\n",
    "    else:\n",
    "        ratio.append( data_yield / mc_yield )\n",
    "        ratio_err_data.append( np.sqrt( data_yield ) / data_yield )\n",
    "        ratio_err_MC.append( np.sqrt( mc_stat ) / mc_stat )\n",
    "    mc_yield_tot += mc_yield\n",
    "    data_yield_tot += data_yield"
   ]
  },
  {
   "cell_type": "markdown",
   "id": "ff6981aa",
   "metadata": {},
   "source": [
    "### Plot Data and MC Agreement\n",
    "First for combined lepton channels"
   ]
  },
  {
   "cell_type": "code",
   "execution_count": 20,
   "id": "abd9324e",
   "metadata": {},
   "outputs": [],
   "source": [
    "colormap = {\n",
    "    \"TTTT\": \"royalblue\",\n",
    "    \"TTH\":  \"darkturquoise\",\n",
    "    \"TOP\":  \"aquamarine\",\n",
    "    \"EWK\":  \"limegreen\",\n",
    "    \"ST\":   \"green\",\n",
    "    \"QCD\":  \"darkviolet\",\n",
    "    \"TTBAR\":\"gold\"\n",
    "}"
   ]
  },
  {
   "cell_type": "code",
   "execution_count": 21,
   "id": "e4a7a59b",
   "metadata": {
    "scrolled": false
   },
   "outputs": [
    {
     "data": {
      "image/png": "[encoded data removed]",
      "text/plain": [
       "<Figure size 648x576 with 2 Axes>"
      ]
     },
     "metadata": {
      "needs_background": "light"
     },
     "output_type": "display_data"
    }
   ],
   "source": [
    "yscale = \"log\"\n",
    "plt.style.use( hep.style.CMS )\n",
    "fig, subplots = plt.subplots( 2, 1, gridspec_kw = { \"height_ratios\": [3,1], \"hspace\": 0 }, figsize = (9,8) )\n",
    "hep.cms.text( \"Preliminary\", fontsize = 20, ax = subplots[0] )\n",
    "hep.cms.lumitext( era, fontsize = 20, ax = subplots[0] )\n",
    "subplots[0].errorbar( \n",
    "    0.5 * ( bins[1:] + bins[:-1] ), hist[\"DATA\"][fDATA[0]][0] + hist[\"DATA\"][fDATA[1]][0],\n",
    "    yerr = np.sqrt( hist[\"DATA\"][fDATA[0]][0] + hist[\"DATA\"][fDATA[1]][0] ),\n",
    "    ls = \"\", marker = \"o\", ms = 5, capsize = 3, color = \"k\", label = \"Data\"\n",
    ")\n",
    "bottom = np.zeros( len( bins ) - 1 )\n",
    "for g in fBKG:\n",
    "    subplots[0].bar(\n",
    "        0.5 * ( bins[1:] + bins[:-1] ), hist_norm[\"BKG\"][g][0], width = bins[:-1] - bins[1:], bottom = bottom, \n",
    "        align = \"center\", color = colormap[g], label = g\n",
    "    )\n",
    "    bottom += hist_norm[\"BKG\"][g][0]\n",
    "\n",
    "subplots[1].errorbar(\n",
    "    0.5 * ( bins[1:] + bins[:-1] ), ratio, yerr = ratio_err_data,\n",
    "    color = \"k\", ls = \"\", marker = \"o\", ms = 5, capsize = 3, label = \"Data Stat. Err.\"\n",
    ")\n",
    "subplots[1].fill_between(\n",
    "    0.5 * ( bins[1:] + bins[:-1] ),\n",
    "    y1 = 1 - np.array(ratio_err_MC), y2 = 1 + np.array(ratio_err_MC),\n",
    "    color = \"r\", alpha = 0.4, step = \"mid\", label = \"MC Stat. Err.\"\n",
    ")\n",
    "subplots[1].hlines( 1, bins[0], bins[-1], color = \"k\", ls = \"--\", lw = 1.5 )\n",
    "subplots[1].hlines( 0.5, bins[0], bins[-1], color = \"k\", ls = \"--\", lw = 0.5 )\n",
    "subplots[1].hlines( 1.5, bins[0], bins[-1], color = \"k\", ls = \"--\", lw = 0.5 )\n",
    "\n",
    "subplots[0].set_xlim( bins[0], bins[-1] )\n",
    "subplots[1].set_xlim( bins[0], bins[-1] )\n",
    "\n",
    "for i, selection_ in enumerate( selection ):\n",
    "    subplots[0].annotate( selection_[3], ( 0.05, 0.95 - i * 0.05 ), xycoords = \"axes fraction\", fontsize = 14, ha = \"left\", va = \"top\" )\n",
    "#subplots[0].annotate( \"With deepJet SF, No Renormalization\", ( 0.95, 0.6 ), xycoords = \"axes fraction\", bbox = dict( boxstyle=\"Square,pad=0.5\",fc=\"white\",ec=\"red\" ), fontsize = 14, ha = \"right\", va = \"top\" )\n",
    "subplots[1].annotate( \"Overall Ratio: {:.2f}\".format( float( data_yield_tot ) / float( mc_yield_tot ) ), ( 0.03, 0.09 ), xycoords = \"axes fraction\", fontsize = 14, ha = \"left\", va = \"bottom\" )\n",
    "    \n",
    "if yscale == \"log\":\n",
    "    subplots[0].set_ylim( 0.5, 10**7 )\n",
    "    subplots[1].set_ylim( -0.2, 2.2 )\n",
    "else:\n",
    "    subplots[0].set_ylim( -20000, 350000 )\n",
    "    subplots[1].set_ylim( -0.1, 2.1 )\n",
    "\n",
    "subplots[0].set_ylabel( \"Events/bin\" )\n",
    "subplots[1].set_ylabel( \"Data/MC\")\n",
    "subplots[1].set_xlabel( variable_plot.value )\n",
    "\n",
    "subplots[1].tick_params( labelsize = 14, which = \"major\" )\n",
    "subplots[1].grid( which = \"both\", linestyle = \":\" )\n",
    "\n",
    "\n",
    "subplots[0].set_yscale(\"log\")\n",
    "subplots[0].set_xticklabels([])\n",
    "subplots[1].set_yticks([0,0.5,1,1.5,2.0])\n",
    "subplots[1].set_yticklabels([0,0.5,1,1.5,2.0])\n",
    "subplots[0].tick_params( labelsize = 14, which = \"major\" )\n",
    "subplots[0].legend( loc = \"upper right\", fontsize = 12, title = r\"$e/\\mu+jets$\", title_fontsize = 16, ncol = 3 )\n",
    "subplots[1].legend( loc = \"upper left\", fontsize = 12 )\n",
    "\n",
    "plt.show()\n",
    "plt.close()"
   ]
  },
  {
   "cell_type": "code",
   "execution_count": null,
   "id": "d105a440",
   "metadata": {},
   "outputs": [],
   "source": []
  },
  {
   "cell_type": "code",
   "execution_count": null,
   "id": "47909c62",
   "metadata": {},
   "outputs": [],
   "source": []
  }
 ],
 "metadata": {
  "@webio": {
   "lastCommId": null,
   "lastKernelId": null
  },
  "kernelspec": {
   "display_name": "Python 3",
   "language": "python",
   "name": "python3"
  },
  "language_info": {
   "codemirror_mode": {
    "name": "ipython",
    "version": 3
   },
   "file_extension": ".py",
   "mimetype": "text/x-python",
   "name": "python",
   "nbconvert_exporter": "python",
   "pygments_lexer": "ipython3",
   "version": "3.9.12"
  }
 },
 "nbformat": 4,
 "nbformat_minor": 5
}
